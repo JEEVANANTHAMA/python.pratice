{
 "cells": [
  {
   "cell_type": "code",
   "execution_count": 4,
   "metadata": {},
   "outputs": [
    {
     "name": "stdout",
     "output_type": "stream",
     "text": [
      "my name is: kee\n",
      "my age is: 4\n"
     ]
    }
   ],
   "source": [
    "a=input(\"my name is:\")\n",
    "b=input(\"my age is:\")\n",
    "print(\"my name is:\" ,a)\n",
    "print(\"my age is:\" ,b)"
   ]
  },
  {
   "cell_type": "markdown",
   "metadata": {},
   "source": [
    "get input for variable name and age ,address print it"
   ]
  },
  {
   "cell_type": "code",
   "execution_count": 6,
   "metadata": {},
   "outputs": [
    {
     "name": "stdout",
     "output_type": "stream",
     "text": [
      "my name is : kee\n",
      "my age is: 21\n",
      "my address is: kangeyam\n"
     ]
    }
   ],
   "source": [
    "a=input(\"name\")\n",
    "b=input(\"age\")\n",
    "c=input(\"address\")\n",
    "print(\"my name is :\",a)\n",
    "print(\"my age is:\",b)\n",
    "print(\"my address is:\",c)"
   ]
  },
  {
   "cell_type": "markdown",
   "metadata": {},
   "source": [
    "get integer input for variable a,b,c\n",
    "multiply all 3 varibale(a*b*c)\n",
    "and add all 3 variable(a+b+c)\n",
    "divide the multiplied vale by added vale  print it"
   ]
  },
  {
   "cell_type": "code",
   "execution_count": 8,
   "metadata": {},
   "outputs": [
    {
     "name": "stdout",
     "output_type": "stream",
     "text": [
      "2.6666666666666665\n"
     ]
    }
   ],
   "source": [
    "a=int(input(\"a\"))\n",
    "b=int(input(\"b\"))\n",
    "c=int(input(\"c\"))\n",
    "d=(a*b*c)\n",
    "e=(a+b+c)\n",
    "f=(d/e)\n",
    "print(f)"
   ]
  },
  {
   "cell_type": "markdown",
   "metadata": {},
   "source": [
    "get input for variable name,score,department\n",
    "get score for 100\n",
    "divide 100/10"
   ]
  },
  {
   "cell_type": "code",
   "execution_count": 10,
   "metadata": {},
   "outputs": [
    {
     "name": "stdout",
     "output_type": "stream",
     "text": [
      "my name  is: kee\n",
      "my score is: 7.5 /10\n",
      "my dep is : computer\n"
     ]
    }
   ],
   "source": [
    "name=input()\n",
    "score=int(input())\n",
    "dep=input()\n",
    "print(\"my name  is:\",name)\n",
    "print(\"my score is:\",score/10,\"/10\")\n",
    "print(\"my dep is :\",dep)"
   ]
  },
  {
   "cell_type": "markdown",
   "metadata": {},
   "source": [
    "if else "
   ]
  },
  {
   "cell_type": "code",
   "execution_count": 13,
   "metadata": {},
   "outputs": [
    {
     "name": "stdout",
     "output_type": "stream",
     "text": [
      "surya meets piya\n"
     ]
    }
   ],
   "source": [
    "meghna= input(\"meghna died or not\")\n",
    "if (meghna==\"died\"):\n",
    "    print(\"surya meets piya\")\n",
    "else:\n",
    "    print(\"surya weds meghna\")"
   ]
  },
  {
   "cell_type": "markdown",
   "metadata": {},
   "source": [
    "get input for variable mark if mark>35 print pass, else fail"
   ]
  },
  {
   "cell_type": "code",
   "execution_count": 17,
   "metadata": {},
   "outputs": [
    {
     "name": "stdout",
     "output_type": "stream",
     "text": [
      "fail\n"
     ]
    }
   ],
   "source": [
    "mark=int(input(\"enter your mark:\"))\n",
    "if mark>35:\n",
    "    print(\"pass\")\n",
    "else:\n",
    "    print(\"fail\")"
   ]
  },
  {
   "cell_type": "markdown",
   "metadata": {},
   "source": [
    "get input for variable income .if income is greater than 7000 scholarship is available .else not elligible for scholarship"
   ]
  },
  {
   "cell_type": "code",
   "execution_count": 19,
   "metadata": {},
   "outputs": [
    {
     "name": "stdout",
     "output_type": "stream",
     "text": [
      "scholarship is available\n"
     ]
    }
   ],
   "source": [
    "income=int(input(\"enter your salary:\"))\n",
    "if income>7000:\n",
    "    print(\"scholarship is available\")\n",
    "else:\n",
    "    print(\"not eligible for scholarship\")"
   ]
  },
  {
   "cell_type": "markdown",
   "metadata": {},
   "source": [
    "get input for a number and check if divisble by both 3 and 5 or not "
   ]
  },
  {
   "cell_type": "code",
   "execution_count": 21,
   "metadata": {},
   "outputs": [
    {
     "name": "stdout",
     "output_type": "stream",
     "text": [
      "not divisble by 3 and 5\n"
     ]
    }
   ],
   "source": [
    "a=int(input())\n",
    "if (a%5==0 and a%3==0):\n",
    "    print(\"a is divisble by 3 and 5\")\n",
    "else:\n",
    "    print(\"not divisble by 3 and 5\")"
   ]
  },
  {
   "cell_type": "markdown",
   "metadata": {},
   "source": [
    "get input for a number and find its even or odd"
   ]
  },
  {
   "cell_type": "code",
   "execution_count": 22,
   "metadata": {},
   "outputs": [
    {
     "name": "stdout",
     "output_type": "stream",
     "text": [
      "the number is odd\n"
     ]
    }
   ],
   "source": [
    "a=int(input(\"enter a number:\"))\n",
    "if (a%2==0):\n",
    "    print(\"the number is even\")\n",
    "else:\n",
    "    print(\"the number is odd\")"
   ]
  },
  {
   "cell_type": "markdown",
   "metadata": {},
   "source": [
    "get input of score out of 100\n",
    "if score is <35=\"poor student\n",
    "if score is greater than 35 but <than 70=\"average student\n",
    "if greater than 70= \"good student\""
   ]
  },
  {
   "cell_type": "code",
   "execution_count": 25,
   "metadata": {},
   "outputs": [
    {
     "name": "stdout",
     "output_type": "stream",
     "text": [
      "average student\n"
     ]
    }
   ],
   "source": [
    "score=int(input(\"marks:\"))\n",
    "if score <35:\n",
    "    print(\"poor student\")\n",
    "elif (score>35 and score<70):\n",
    "    print(\"average student\")\n",
    "else :  \n",
    "    print(\"good student\")"
   ]
  },
  {
   "cell_type": "markdown",
   "metadata": {},
   "source": [
    "mini calc\n",
    "get 2 input from user wheather to add/sub/mul/div\n",
    "if user selects add thn add 2 num  and print the result\n"
   ]
  },
  {
   "cell_type": "code",
   "execution_count": 28,
   "metadata": {},
   "outputs": [
    {
     "name": "stdout",
     "output_type": "stream",
     "text": [
      "20\n"
     ]
    }
   ],
   "source": [
    "a=int(input(\"a\"))\n",
    "b=int(input(\"b\"))\n",
    "operation=input(\"add/sub/mul/div\")\n",
    "if (operation==\"add\"):\n",
    "    print(a+b)\n",
    "elif (operation==\"sub\"):\n",
    "    print(a-b)\n",
    "elif (operation==\"mul\"):\n",
    "    print(a*b)\n",
    "elif (operation==\"div\"):\n",
    "    print(a/b)\n",
    "else:\n",
    "    print(\"invalid opp\")"
   ]
  },
  {
   "cell_type": "markdown",
   "metadata": {},
   "source": [
    "get score percentage ,percentage is greater than 70,get input his name,dep add,loc .then print you are elligible if not print you are not eligible"
   ]
  },
  {
   "cell_type": "code",
   "execution_count": 29,
   "metadata": {},
   "outputs": [
    {
     "name": "stdout",
     "output_type": "stream",
     "text": [
      "you are eligible\n"
     ]
    }
   ],
   "source": [
    "score=int(input(\"score percentage\"))\n",
    "if (score>=70):\n",
    "    name=input(\"enter your name\")\n",
    "    dep=input(\"enter your dep\")\n",
    "    add=input(\"enter address\")\n",
    "    print(\"you are eligible\")\n",
    "else:\n",
    "    print(\"you are not eligible\")"
   ]
  },
  {
   "cell_type": "markdown",
   "metadata": {},
   "source": [
    "get input for salary and  age\n",
    "if salary greater than  or equal to 20000 or age less thn or equal to 25,get input req loan amout\n",
    "if not print you are not aligible\n",
    "if required loan amount is less than or equal to 50000 print yor are eligible for loan if it is greater than 50000  print max loan amount is 50000"
   ]
  },
  {
   "cell_type": "code",
   "execution_count": 3,
   "metadata": {},
   "outputs": [
    {
     "name": "stdout",
     "output_type": "stream",
     "text": [
      "max loan amount is 50000\n"
     ]
    }
   ],
   "source": [
    "salary=int(input(\"salary:\"))\n",
    "age=int(input(\"age\"))\n",
    "if (salary >=20000 or age<=25):\n",
    "    loan = int(input(\"enter your loan amount\"))\n",
    "    if (loan>=50000):\n",
    "        print(\"max loan amount is 50000\")\n",
    "    else:\n",
    "        print(\"yu are eligible for loan\")\n",
    "else:\n",
    "   print(\"you are not eligiblle\")"
   ]
  },
  {
   "cell_type": "markdown",
   "metadata": {},
   "source": [
    "get  5 sub marks ,add all of it ,and find average ,if avg mark is less than 35 print add claass is req else .print \"you are god to go\""
   ]
  },
  {
   "cell_type": "code",
   "execution_count": 6,
   "metadata": {},
   "outputs": [
    {
     "name": "stdout",
     "output_type": "stream",
     "text": [
      "add class is req\n"
     ]
    }
   ],
   "source": [
    "tam=int(input(\"mark 1\"))\n",
    "eng=int(input(\"mark 2\"))\n",
    "maths=int(input(\"mark 3\"))\n",
    "sci=int(input(\"mark4\"))\n",
    "soc=int(input(\"mark5\"))\n",
    "total=int(tam+eng+maths+sci+soc)\n",
    "avg=total/5\n",
    "if (avg <35):\n",
    "    print(\"add class is req\")\n",
    "else:\n",
    "    print(\"yor arre good to go\")"
   ]
  },
  {
   "cell_type": "code",
   "execution_count": 17,
   "metadata": {},
   "outputs": [
    {
     "name": "stdout",
     "output_type": "stream",
     "text": [
      "weird\n"
     ]
    }
   ],
   "source": [
    "n=int(input(\"enter number\"))\n",
    "if(n%2==0):\n",
    "    if (n>=2 and n<=5):\n",
    "        print(\"not weird\")\n",
    "    elif (n>=6 and n<=20):\n",
    "        print(\"weird\")\n",
    "    elif (n>20):\n",
    "        print(\"not weird\")\n",
    "else:\n",
    "    print(\"weird\")"
   ]
  },
  {
   "cell_type": "code",
   "execution_count": 2,
   "metadata": {},
   "outputs": [
    {
     "name": "stdout",
     "output_type": "stream",
     "text": [
      "a\n",
      "p\n",
      "p\n",
      "l\n",
      "e\n"
     ]
    }
   ],
   "source": [
    "for i in (\"apple\"):\n",
    "    print(i)"
   ]
  },
  {
   "cell_type": "markdown",
   "metadata": {},
   "source": [
    "2 table using for loop"
   ]
  },
  {
   "cell_type": "code",
   "execution_count": 4,
   "metadata": {},
   "outputs": [
    {
     "name": "stdout",
     "output_type": "stream",
     "text": [
      "1 x2= 2\n",
      "2 x2= 4\n",
      "3 x2= 6\n",
      "4 x2= 8\n",
      "5 x2= 10\n",
      "6 x2= 12\n",
      "7 x2= 14\n",
      "8 x2= 16\n",
      "9 x2= 18\n",
      "10 x2= 20\n"
     ]
    }
   ],
   "source": [
    "for i in range(1,11):\n",
    "    print(i,\"x2=\",i*2)"
   ]
  },
  {
   "cell_type": "code",
   "execution_count": 5,
   "metadata": {},
   "outputs": [
    {
     "name": "stdout",
     "output_type": "stream",
     "text": [
      "1 x3= 3\n",
      "2 x3= 6\n",
      "3 x3= 9\n",
      "4 x3= 12\n",
      "5 x3= 15\n",
      "6 x3= 18\n",
      "7 x3= 21\n",
      "8 x3= 24\n",
      "9 x3= 27\n",
      "10 x3= 30\n"
     ]
    }
   ],
   "source": [
    "for i in range(1,11):\n",
    "    print(i,\"x3=\",i*3)"
   ]
  },
  {
   "cell_type": "code",
   "execution_count": 8,
   "metadata": {},
   "outputs": [
    {
     "name": "stdout",
     "output_type": "stream",
     "text": [
      "9\n",
      "10\n",
      "11\n",
      "12\n",
      "13\n",
      "14\n"
     ]
    }
   ],
   "source": [
    "a=int(input())\n",
    "b=int(input())\n",
    "for i in range(a+1,b):\n",
    "    print(i)"
   ]
  },
  {
   "cell_type": "markdown",
   "metadata": {},
   "source": [
    "print even number btwn 1 to 10"
   ]
  },
  {
   "cell_type": "code",
   "execution_count": 15,
   "metadata": {},
   "outputs": [
    {
     "ename": "IndentationError",
     "evalue": "unexpected indent (624606105.py, line 3)",
     "output_type": "error",
     "traceback": [
      "\u001b[1;36m  Cell \u001b[1;32mIn[15], line 3\u001b[1;36m\u001b[0m\n\u001b[1;33m    or\u001b[0m\n\u001b[1;37m    ^\u001b[0m\n\u001b[1;31mIndentationError\u001b[0m\u001b[1;31m:\u001b[0m unexpected indent\n"
     ]
    }
   ],
   "source": [
    "for i in range(2,11,2):\n",
    "    print(i)\n",
    "     or\n",
    "    \n",
    "\n",
    "for i in range(1,10):\n",
    "   if(i%2==0):\n",
    "      print(i)    "
   ]
  },
  {
   "cell_type": "code",
   "execution_count": 18,
   "metadata": {},
   "outputs": [
    {
     "name": "stdout",
     "output_type": "stream",
     "text": [
      "5\n"
     ]
    }
   ],
   "source": [
    "count=0\n",
    "for i in range(1,11):\n",
    "    if(i%2==0):\n",
    "        count=count+1\n",
    "print(count)"
   ]
  },
  {
   "cell_type": "code",
   "execution_count": 21,
   "metadata": {},
   "outputs": [
    {
     "name": "stdout",
     "output_type": "stream",
     "text": [
      "5\n",
      "5\n"
     ]
    }
   ],
   "source": [
    "odd_count=0\n",
    "even_count=0\n",
    "for i in range(1,11):\n",
    "    if(i%2==0):\n",
    "        even_count=even_count+1\n",
    "    else:\n",
    "        odd_count=odd_count+1\n",
    "print(odd_count)\n",
    "print(even_count)"
   ]
  },
  {
   "cell_type": "code",
   "execution_count": 23,
   "metadata": {},
   "outputs": [
    {
     "name": "stdout",
     "output_type": "stream",
     "text": [
      "6\n"
     ]
    }
   ],
   "source": [
    "count=0\n",
    "for i in range(1,101):\n",
    "    if (i%3==0 and i%5==0):\n",
    "        count=count+1\n",
    "print(count)\n"
   ]
  },
  {
   "cell_type": "markdown",
   "metadata": {},
   "source": [
    "write program to compute the sum of the first 5 natural numbers"
   ]
  },
  {
   "cell_type": "code",
   "execution_count": 25,
   "metadata": {},
   "outputs": [
    {
     "name": "stdout",
     "output_type": "stream",
     "text": [
      "15\n"
     ]
    }
   ],
   "source": [
    "a=1+2+3+4+5\n",
    "print(a)"
   ]
  },
  {
   "cell_type": "code",
   "execution_count": 24,
   "metadata": {},
   "outputs": [
    {
     "name": "stdout",
     "output_type": "stream",
     "text": [
      "15\n"
     ]
    }
   ],
   "source": [
    "sum=0\n",
    "for i in range(1,6):\n",
    "    sum=sum+i\n",
    "print(sum)\n"
   ]
  },
  {
   "cell_type": "code",
   "execution_count": 32,
   "metadata": {},
   "outputs": [
    {
     "name": "stdout",
     "output_type": "stream",
     "text": [
      "enter 10 numbers\n",
      "[1, 2, 3, 4, 5, 6, 7, 8, 9, 1]\n",
      "46\n",
      "0.1\n"
     ]
    }
   ],
   "source": [
    "a=[]\n",
    "print(\"enter 10 numbers\")\n",
    "for i in range(10):\n",
    "    num=int(input(\"enter num\"+str(i+1)))\n",
    "    a.append(num)\n",
    "print(a)\n",
    "sum=0\n",
    "for i in (a):\n",
    "    sum=sum+i\n",
    "print(sum)\n",
    "for i in a:\n",
    "    avg=i/10\n",
    "print(avg)"
   ]
  },
  {
   "cell_type": "code",
   "execution_count": 33,
   "metadata": {},
   "outputs": [
    {
     "name": "stdout",
     "output_type": "stream",
     "text": [
      "7\n"
     ]
    }
   ],
   "source": [
    "sum=0\n",
    "for i in range(1,8):\n",
    "    sum=sum+1\n",
    "print(sum)"
   ]
  },
  {
   "cell_type": "markdown",
   "metadata": {},
   "source": [
    "nested for loop"
   ]
  },
  {
   "cell_type": "code",
   "execution_count": 36,
   "metadata": {},
   "outputs": [
    {
     "name": "stdout",
     "output_type": "stream",
     "text": [
      "week : 1\n",
      "days 1\n",
      "days 2\n",
      "days 3\n",
      "week : 2\n",
      "days 1\n",
      "days 2\n",
      "days 3\n"
     ]
    }
   ],
   "source": [
    "for i in range(1,3):\n",
    "    print(\"week :\",i)\n",
    "    for j in range(1,4):\n",
    "        print(\"days\",j)"
   ]
  },
  {
   "cell_type": "code",
   "execution_count": 49,
   "metadata": {},
   "outputs": [
    {
     "name": "stdout",
     "output_type": "stream",
     "text": [
      "\n",
      "1\n",
      "12\n",
      "123\n",
      "1234"
     ]
    }
   ],
   "source": [
    "for i in range(1,5):\n",
    "    print()\n",
    "    for j in range(1,i+1):\n",
    "       print(j,end=\"\")"
   ]
  },
  {
   "cell_type": "markdown",
   "metadata": {},
   "source": [
    "cube numbers of range 5"
   ]
  },
  {
   "cell_type": "code",
   "execution_count": 1,
   "metadata": {},
   "outputs": [
    {
     "name": "stdout",
     "output_type": "stream",
     "text": [
      "1\n",
      "8\n",
      "27\n",
      "64\n",
      "125\n"
     ]
    }
   ],
   "source": [
    "for i in range(1,6):\n",
    "    print(i*i*i)"
   ]
  },
  {
   "cell_type": "markdown",
   "metadata": {},
   "source": [
    "while loop\n",
    "print a number from 1 to 5 using whiile loop"
   ]
  },
  {
   "cell_type": "code",
   "execution_count": 2,
   "metadata": {},
   "outputs": [
    {
     "name": "stdout",
     "output_type": "stream",
     "text": [
      "1\n",
      "2\n",
      "3\n",
      "4\n",
      "5\n"
     ]
    }
   ],
   "source": [
    "i=1\n",
    "while(i<=5):\n",
    "    print(i)\n",
    "    i=i+1"
   ]
  },
  {
   "cell_type": "markdown",
   "metadata": {},
   "source": [
    "print following eries \n",
    "10,20,30,40,50,60,70,....200"
   ]
  },
  {
   "cell_type": "code",
   "execution_count": 5,
   "metadata": {},
   "outputs": [
    {
     "name": "stdout",
     "output_type": "stream",
     "text": [
      "10,20,30,40,50,60,70,80,90,100,110,120,130,140,150,160,170,180,190,200,"
     ]
    }
   ],
   "source": [
    "i=10\n",
    "while(i<=200):\n",
    "    print(i,end=\",\")\n",
    "    i=i+10"
   ]
  },
  {
   "cell_type": "code",
   "execution_count": 8,
   "metadata": {},
   "outputs": [
    {
     "name": "stdout",
     "output_type": "stream",
     "text": [
      "10,9,8,7,6,5,4,3,2,1,"
     ]
    }
   ],
   "source": [
    "i=10\n",
    "while (i>0):\n",
    "    print(i,end=\",\")\n",
    "    i=i-1"
   ]
  },
  {
   "cell_type": "code",
   "execution_count": 9,
   "metadata": {},
   "outputs": [
    {
     "name": "stdout",
     "output_type": "stream",
     "text": [
      "120\n"
     ]
    }
   ],
   "source": [
    "i=5\n",
    "fact=1\n",
    "while(i>0):\n",
    "    fact=fact*i\n",
    "    i=i-1\n",
    "print(fact)"
   ]
  },
  {
   "cell_type": "markdown",
   "metadata": {},
   "source": [
    "       FUNCTIONS"
   ]
  },
  {
   "cell_type": "code",
   "execution_count": 2,
   "metadata": {},
   "outputs": [
    {
     "name": "stdout",
     "output_type": "stream",
     "text": [
      "30\n"
     ]
    }
   ],
   "source": [
    "def Add():\n",
    "    a=int(input(\"num1\"))\n",
    "    b=int(input(\"num2\"))\n",
    "    print(a+b)\n",
    "\n",
    "Add()"
   ]
  }
 ],
 "metadata": {
  "kernelspec": {
   "display_name": "Python 3",
   "language": "python",
   "name": "python3"
  },
  "language_info": {
   "codemirror_mode": {
    "name": "ipython",
    "version": 3
   },
   "file_extension": ".py",
   "mimetype": "text/x-python",
   "name": "python",
   "nbconvert_exporter": "python",
   "pygments_lexer": "ipython3",
   "version": "3.12.4"
  }
 },
 "nbformat": 4,
 "nbformat_minor": 2
}
