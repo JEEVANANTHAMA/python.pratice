{
 "cells": [
  {
   "cell_type": "markdown",
   "metadata": {},
   "source": [
    "Create a class called Student with attributes name, age, and grades (a list of integers). Implement methods to calculate the average grade and determine if the student has passed (average grade >= 60).\n"
   ]
  },
  {
   "cell_type": "code",
   "execution_count": 4,
   "metadata": {},
   "outputs": [
    {
     "ename": "AttributeError",
     "evalue": "'tuple' object has no attribute 'avg_grade'",
     "output_type": "error",
     "traceback": [
      "\u001b[1;31m---------------------------------------------------------------------------\u001b[0m",
      "\u001b[1;31mAttributeError\u001b[0m                            Traceback (most recent call last)",
      "Cell \u001b[1;32mIn[4], line 12\u001b[0m\n\u001b[0;32m     10\u001b[0m         \u001b[38;5;28mprint\u001b[39m (avg\u001b[38;5;241m>\u001b[39m\u001b[38;5;241m=\u001b[39m\u001b[38;5;241m60\u001b[39m)\n\u001b[0;32m     11\u001b[0m student\u001b[38;5;241m=\u001b[39m(\u001b[38;5;124m\"\u001b[39m\u001b[38;5;124mkee\u001b[39m\u001b[38;5;124m\"\u001b[39m,\u001b[38;5;241m18\u001b[39m,[\u001b[38;5;241m50.60\u001b[39m,\u001b[38;5;241m70\u001b[39m,\u001b[38;5;241m40\u001b[39m,\u001b[38;5;241m50\u001b[39m])\n\u001b[1;32m---> 12\u001b[0m \u001b[43mstudent\u001b[49m\u001b[38;5;241;43m.\u001b[39;49m\u001b[43mavg_grade\u001b[49m()\n\u001b[0;32m     13\u001b[0m student\u001b[38;5;241m.\u001b[39mpassed()\n",
      "\u001b[1;31mAttributeError\u001b[0m: 'tuple' object has no attribute 'avg_grade'"
     ]
    }
   ],
   "source": [
    "class student:\n",
    "    def __init__(self,name,age ,grade):\n",
    "        self.name=name\n",
    "        self.age=age\n",
    "        self.grade=grade\n",
    "    def avg_grade(self):\n",
    "        avg_grade=sum(self.grade)/len(self.grade)\n",
    "    def passed(self):\n",
    "        avg=self.avg_grade()\n",
    "        print (avg>=60)\n",
    "student=(\"kee\",18,[50.60,70,40,50])\n",
    "student.avg_grade()\n",
    "student.passed()\n",
    "\n",
    "\n"
   ]
  },
  {
   "cell_type": "markdown",
   "metadata": {},
   "source": [
    "Write a Python function called calculate_average that takes a list of numbers as input and returns their average.\n"
   ]
  },
  {
   "cell_type": "code",
   "execution_count": 9,
   "metadata": {},
   "outputs": [
    {
     "data": {
      "text/plain": [
       "3.0"
      ]
     },
     "execution_count": 9,
     "metadata": {},
     "output_type": "execute_result"
    }
   ],
   "source": [
    "def calculate_average(a):\n",
    "    total=sum(a)\n",
    "    avg=total/len(a)\n",
    "    return avg\n",
    "numbers=[1,2,3,4,5]\n",
    "calculate_average(numbers)"
   ]
  },
  {
   "cell_type": "markdown",
   "metadata": {},
   "source": [
    "Write a Python function called find_largest that takes a list of numbers as input and returns the largest number in the list.\n"
   ]
  },
  {
   "cell_type": "code",
   "execution_count": 11,
   "metadata": {},
   "outputs": [
    {
     "name": "stdout",
     "output_type": "stream",
     "text": [
      "50\n"
     ]
    }
   ],
   "source": [
    "def find_largest(numbers):\n",
    "    largest=numbers[0]\n",
    "    for num in numbers:\n",
    "        if num>largest:\n",
    "            largest=num\n",
    "    return largest\n",
    "        \n",
    "\n",
    "nums=[10,20,30,40,50] \n",
    "print(find_largest(nums))      "
   ]
  },
  {
   "cell_type": "code",
   "execution_count": 13,
   "metadata": {},
   "outputs": [
    {
     "name": "stdout",
     "output_type": "stream",
     "text": [
      "50\n"
     ]
    }
   ],
   "source": [
    "def find_largest(a):\n",
    "    large=a[0]\n",
    "    for num in a:\n",
    "        if num>large:\n",
    "            large=num\n",
    "    return num\n",
    "\n",
    "num=[10,20,30,40,50]\n",
    "print(find_largest(num))    "
   ]
  },
  {
   "cell_type": "markdown",
   "metadata": {},
   "source": [
    " Write a Python function called reverse_string that takes a string as input and returns the reverse of the string."
   ]
  },
  {
   "cell_type": "code",
   "execution_count": 14,
   "metadata": {},
   "outputs": [
    {
     "name": "stdout",
     "output_type": "stream",
     "text": [
      "orb iih\n"
     ]
    }
   ],
   "source": [
    "def reverse_fun(a):\n",
    "    return a[::-1]\n",
    "\n",
    "str=\"hii bro\"\n",
    "print(reverse_fun(str))"
   ]
  },
  {
   "cell_type": "markdown",
   "metadata": {},
   "source": [
    "Write a Python function called count_vowels that takes a string as input and returns the count of vowels (a, e, i, o, u) in the string."
   ]
  },
  {
   "cell_type": "code",
   "execution_count": 21,
   "metadata": {},
   "outputs": [
    {
     "name": "stdout",
     "output_type": "stream",
     "text": [
      "8\n"
     ]
    }
   ],
   "source": [
    "def count_vowels(str):\n",
    "    vowels=(\"a,e,i,o,u\")\n",
    "    i=0\n",
    "    for a in str:\n",
    "        if a in vowels:\n",
    "            i+=1\n",
    "    return i\n",
    "        \n",
    "str=(\"hoe are you doing\")\n",
    "print(count_vowels(str))"
   ]
  }
 ],
 "metadata": {
  "kernelspec": {
   "display_name": "Python 3",
   "language": "python",
   "name": "python3"
  },
  "language_info": {
   "codemirror_mode": {
    "name": "ipython",
    "version": 3
   },
   "file_extension": ".py",
   "mimetype": "text/x-python",
   "name": "python",
   "nbconvert_exporter": "python",
   "pygments_lexer": "ipython3",
   "version": "3.12.4"
  }
 },
 "nbformat": 4,
 "nbformat_minor": 2
}
